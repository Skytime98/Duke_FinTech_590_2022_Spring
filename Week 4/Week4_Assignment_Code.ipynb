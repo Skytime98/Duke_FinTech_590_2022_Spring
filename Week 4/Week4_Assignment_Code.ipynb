{
 "cells": [
  {
   "cell_type": "code",
   "execution_count": 1,
   "id": "e26d845e",
   "metadata": {},
   "outputs": [],
   "source": [
    "import numpy as np\n",
    "import pandas as pd\n",
    "import matplotlib.pyplot as plt\n",
    "\n",
    "import math\n",
    "from scipy.stats import norm\n",
    "import datetime as dt\n",
    "import seaborn as sns\n",
    "import yfinance as yf\n",
    "from scipy.stats import t"
   ]
  },
  {
   "cell_type": "markdown",
   "id": "33c5053e",
   "metadata": {},
   "source": [
    "# Question 1"
   ]
  },
  {
   "cell_type": "code",
   "execution_count": 2,
   "id": "d1d73cf3",
   "metadata": {},
   "outputs": [],
   "source": [
    "# Load the database\n",
    "\n",
    "df = pd.read_csv('spy_gfc.csv')\n",
    "\n",
    "n = df.shape[0]\n",
    "m = df.shape[1]"
   ]
  },
  {
   "cell_type": "code",
   "execution_count": 3,
   "id": "8bc7da2c",
   "metadata": {},
   "outputs": [],
   "source": [
    "# Calculate the rate of return of adjClose price\n",
    "adj_r = np.zeros((n-1, 1))\n",
    "\n",
    "for i in range(n-1):\n",
    "    adj_r[i] = (df['AdjClose'][i+1] - df['AdjClose'][i]) / df['AdjClose'][i]"
   ]
  },
  {
   "cell_type": "code",
   "execution_count": 4,
   "id": "9c5cba9e",
   "metadata": {},
   "outputs": [
    {
     "name": "stdout",
     "output_type": "stream",
     "text": [
      "The expected mean of AdjClose price is 70.495078.\n",
      "The expected standard deviation of AdjClose price is 11.174723.\n"
     ]
    }
   ],
   "source": [
    "# Calculate the expect mean and standard deviation\n",
    "exp_mean = df['AdjClose'].mean()\n",
    "exp_std = df['AdjClose'].std()\n",
    "\n",
    "print(\"The expected mean of AdjClose price is %f.\" % exp_mean) \n",
    "print(\"The expected standard deviation of AdjClose price is %f.\" % exp_std)"
   ]
  },
  {
   "cell_type": "code",
   "execution_count": 5,
   "id": "1baf6801",
   "metadata": {},
   "outputs": [],
   "source": [
    "# Simulate return\n",
    "nsim = 1000\n",
    "np.random.seed(1998)\n",
    "r = np.random.normal(loc=0.0, scale=adj_r.std(), size=(n-1, nsim))\n",
    "\n",
    "rate = np.zeros((n, nsim))\n",
    "for i in range(nsim):\n",
    "    temp_list = r[:,i].tolist()\n",
    "    temp_list.insert(0,0)\n",
    "    rate[:,i] = np.array(temp_list)"
   ]
  },
  {
   "cell_type": "code",
   "execution_count": 6,
   "id": "1f683ef3",
   "metadata": {},
   "outputs": [
    {
     "name": "stdout",
     "output_type": "stream",
     "text": [
      "Using classical Brownian Motion, the mean is 70.486780\n",
      "Using classical Brownian Motion, the standard deviation is 0.164435\n"
     ]
    }
   ],
   "source": [
    "# Classical Brownian Motion\n",
    "initial = exp_mean\n",
    "\n",
    "mean_classical = np.zeros((nsim,1))\n",
    "std_classical = np.zeros((nsim,1))\n",
    "\n",
    "for i in range(nsim):\n",
    "    temp_price = np.zeros((n,1))\n",
    "    temp_price[0] = initial\n",
    "    \n",
    "    for j in range(1, n):\n",
    "        temp_price[j] = temp_price[j-1] + rate[j][i]\n",
    "        \n",
    "    mean_classical[i] = temp_price.mean()\n",
    "    std_classical[i] = temp_price.std()\n",
    "     \n",
    "mean_classical_result = mean_classical.mean()\n",
    "std_classical_result = std_classical.mean()\n",
    "\n",
    "print(\"Using classical Brownian Motion, the mean is %f\" % mean_classical_result)\n",
    "print(\"Using classical Brownian Motion, the standard deviation is %f\" % std_classical_result)"
   ]
  },
  {
   "cell_type": "code",
   "execution_count": 7,
   "id": "355d0e05",
   "metadata": {},
   "outputs": [
    {
     "name": "stdout",
     "output_type": "stream",
     "text": [
      "Using arithmetic return system, the mean is 69.910269\n",
      "Using arithmetic return system, the standard deviation is 11.498816\n"
     ]
    }
   ],
   "source": [
    "# Arithmetic Return System\n",
    "mean_arithmetic = np.zeros((nsim,1))\n",
    "std_arithmetic = np.zeros((nsim,1))\n",
    "\n",
    "for i in range(nsim):\n",
    "    temp_price = np.zeros((n,1))\n",
    "    temp_price[0] = initial\n",
    "    \n",
    "    for j in range(1, n):\n",
    "        temp_price[j] = temp_price[j-1] * (1 + rate[j][i])\n",
    "        \n",
    "    mean_arithmetic[i] = temp_price.mean()\n",
    "    std_arithmetic[i] = temp_price.std()\n",
    "        \n",
    "mean_arithmetic_result = mean_arithmetic.mean()\n",
    "std_arithmetic_result = std_arithmetic.mean()\n",
    "\n",
    "print(\"Using arithmetic return system, the mean is %f\" % mean_arithmetic_result)\n",
    "print(\"Using arithmetic return system, the standard deviation is %f\" % std_arithmetic_result)"
   ]
  },
  {
   "cell_type": "code",
   "execution_count": 8,
   "id": "4b9509c8",
   "metadata": {},
   "outputs": [
    {
     "name": "stdout",
     "output_type": "stream",
     "text": [
      "Using log return, the mean is 73.205159\n",
      "Using log return, the standard deviation is 12.128027\n"
     ]
    }
   ],
   "source": [
    "# Log Return\n",
    "mean_log = np.zeros((nsim,1))\n",
    "std_log = np.zeros((nsim,1))\n",
    "\n",
    "for i in range(nsim):\n",
    "    temp_price = np.zeros((n,1))\n",
    "    temp_price[0] = initial\n",
    "    \n",
    "    for j in range(1, n):\n",
    "        temp_price[j] = temp_price[j-1] * math.exp(rate[j][i])\n",
    "        \n",
    "    mean_log[i] = temp_price.mean()\n",
    "    std_log[i] = temp_price.std()\n",
    "        \n",
    "mean_log_result = mean_log.mean()\n",
    "std_log_result = std_log.mean()\n",
    "\n",
    "print(\"Using log return, the mean is %f\" % mean_log_result)\n",
    "print(\"Using log return, the standard deviation is %f\" % std_log_result)"
   ]
  },
  {
   "cell_type": "code",
   "execution_count": 9,
   "id": "f14f3e81",
   "metadata": {},
   "outputs": [
    {
     "data": {
      "text/html": [
       "<div>\n",
       "<style scoped>\n",
       "    .dataframe tbody tr th:only-of-type {\n",
       "        vertical-align: middle;\n",
       "    }\n",
       "\n",
       "    .dataframe tbody tr th {\n",
       "        vertical-align: top;\n",
       "    }\n",
       "\n",
       "    .dataframe thead th {\n",
       "        text-align: right;\n",
       "    }\n",
       "</style>\n",
       "<table border=\"1\" class=\"dataframe\">\n",
       "  <thead>\n",
       "    <tr style=\"text-align: right;\">\n",
       "      <th></th>\n",
       "      <th>Method</th>\n",
       "      <th>Difference of Mean</th>\n",
       "      <th>Differenece of Std</th>\n",
       "    </tr>\n",
       "  </thead>\n",
       "  <tbody>\n",
       "    <tr>\n",
       "      <th>0</th>\n",
       "      <td>Classical Brownian Motion</td>\n",
       "      <td>-0.008298</td>\n",
       "      <td>-11.010289</td>\n",
       "    </tr>\n",
       "    <tr>\n",
       "      <th>1</th>\n",
       "      <td>Arithmetic Return System</td>\n",
       "      <td>-0.584809</td>\n",
       "      <td>0.324093</td>\n",
       "    </tr>\n",
       "    <tr>\n",
       "      <th>2</th>\n",
       "      <td>Log Return</td>\n",
       "      <td>2.710081</td>\n",
       "      <td>0.953304</td>\n",
       "    </tr>\n",
       "  </tbody>\n",
       "</table>\n",
       "</div>"
      ],
      "text/plain": [
       "                      Method  Difference of Mean  Differenece of Std\n",
       "0  Classical Brownian Motion           -0.008298          -11.010289\n",
       "1   Arithmetic Return System           -0.584809            0.324093\n",
       "2                 Log Return            2.710081            0.953304"
      ]
     },
     "execution_count": 9,
     "metadata": {},
     "output_type": "execute_result"
    }
   ],
   "source": [
    "# Create the table to show the difference between each method with expected value\n",
    "diff_classical_mean = mean_classical_result - exp_mean\n",
    "diff_classical_std = std_classical_result - exp_std\n",
    "diff_arithmetic_mean = mean_arithmetic_result - exp_mean\n",
    "diff_arithmetic_std = std_arithmetic_result - exp_std\n",
    "diff_log_mean = mean_log_result - exp_mean\n",
    "diff_log_std = std_log_result - exp_std\n",
    "\n",
    "name = ['Classical Brownian Motion', 'Arithmetic Return System', 'Log Return']\n",
    "diff_mean = [diff_classical_mean, diff_arithmetic_mean, diff_log_mean]\n",
    "diff_std = [diff_classical_std, diff_arithmetic_std, diff_log_std]\n",
    "\n",
    "result = pd.DataFrame(list(zip(name,diff_mean,diff_std)), columns = ['Method','Difference of Mean', 'Differenece of Std'])\n",
    "result"
   ]
  },
  {
   "cell_type": "markdown",
   "id": "06cf37e3",
   "metadata": {},
   "source": [
    "# Question 2"
   ]
  },
  {
   "cell_type": "code",
   "execution_count": 10,
   "id": "b56dcc62",
   "metadata": {},
   "outputs": [],
   "source": [
    "# Create the calulate function to decide which method to choice. *Vector is a vector, not matrix\n",
    "\n",
    "def return_calculate (method, vector):\n",
    "    n = vector.shape[0]\n",
    "    ror = np.zeros((n-1, 1))\n",
    "    \n",
    "    if method == 'Classical':\n",
    "        for i in range(1, n):\n",
    "            ror[i-1] = vector[i] - vector[i-1]\n",
    "            \n",
    "    if method == 'Arithmetic':\n",
    "        for i in range(1, n):\n",
    "            ror[i-1] = (vector[i] / vector[i-1]) - 1\n",
    "            \n",
    "    if method == 'Log':\n",
    "        for i in range(1,n):\n",
    "            ror[i-1] = np.log(vector[i] / vector[i-1])\n",
    "            \n",
    "    return ror"
   ]
  },
  {
   "cell_type": "code",
   "execution_count": 11,
   "id": "115cda41",
   "metadata": {},
   "outputs": [],
   "source": [
    "df2 = pd.read_csv(\"DailyPrices.csv\")\n",
    "df2 = df2.drop(columns = ['Date'])"
   ]
  },
  {
   "cell_type": "code",
   "execution_count": 12,
   "id": "14077bfc",
   "metadata": {},
   "outputs": [],
   "source": [
    "# Function of remove mean for a vector\n",
    "def rm_mean (vector):\n",
    "    mean = vector.mean()\n",
    "    n = vector.shape[0]\n",
    "    for i in range(n):\n",
    "        vector[i] = vector[i] - mean\n",
    "        \n",
    "    return vector"
   ]
  },
  {
   "cell_type": "code",
   "execution_count": 13,
   "id": "941f0c0c",
   "metadata": {},
   "outputs": [
    {
     "name": "stdout",
     "output_type": "stream",
     "text": [
      "The Arithmetic return for INTC is:\n",
      "[[ 1.59002377e-01]\n",
      " [-1.42415414e+00]\n",
      " [ 2.56686356e-02]\n",
      " [ 5.65622771e-01]\n",
      " [ 1.24688221e-01]\n",
      " [-5.40117350e-02]\n",
      " [-2.76458243e-01]\n",
      " [-2.28423616e-01]\n",
      " [-1.66865164e-01]\n",
      " [-3.42422286e-01]\n",
      " [-2.65146242e-01]\n",
      " [-8.21248888e-01]\n",
      " [-4.74503887e+00]\n",
      " [-7.03895697e-01]\n",
      " [-2.98849495e+00]\n",
      " [ 7.85597187e-01]\n",
      " [ 4.20830313e-01]\n",
      " [-1.34609075e-02]\n",
      " [-3.95760377e-01]\n",
      " [ 8.58239617e-01]\n",
      " [ 6.68473373e-01]\n",
      " [ 1.16552693e-01]\n",
      " [-2.02249352e-01]\n",
      " [ 5.97009461e-01]\n",
      " [-3.37981324e-01]\n",
      " [ 7.58061602e-01]\n",
      " [-5.36790477e-01]\n",
      " [ 7.59900327e-01]\n",
      " [ 3.23841046e-01]\n",
      " [-3.66932677e-01]\n",
      " [ 1.61002736e-01]\n",
      " [-9.65183016e-01]\n",
      " [-2.51724452e+01]\n",
      " [-5.40458024e-01]\n",
      " [-1.82149074e+00]\n",
      " [-1.92050531e-01]\n",
      " [ 1.27493588e+00]\n",
      " [ 2.84962170e-01]\n",
      " [-7.17046449e-01]\n",
      " [-4.18014639e-01]\n",
      " [ 9.42702801e-01]\n",
      " [ 2.35691276e+00]\n",
      " [-8.05359311e-01]\n",
      " [-7.07295842e-01]\n",
      " [-4.10789820e+00]\n",
      " [ 2.44913335e+00]\n",
      " [-2.02878970e-01]\n",
      " [ 9.89827093e-02]\n",
      " [-1.15795561e-01]\n",
      " [-3.49228961e-01]\n",
      " [ 3.82352235e+00]\n",
      " [-3.24488722e-02]\n",
      " [ 3.49745491e-01]\n",
      " [ 4.96939815e-02]\n",
      " [-1.92747861e-01]\n",
      " [ 7.41445303e-01]\n",
      " [ 1.68381516e-01]\n",
      " [-3.49989864e-02]\n",
      " [-1.70677038e-01]\n",
      " [ 1.95512522e-01]]\n"
     ]
    }
   ],
   "source": [
    "# Calculate the arithmetic returns for INTC removing the mean\n",
    "INTC = rm_mean(df2['INTC'])\n",
    "ror_INTC = return_calculate('Arithmetic', INTC)\n",
    "print(\"The Arithmetic return for INTC is:\")\n",
    "print(ror_INTC)"
   ]
  },
  {
   "cell_type": "markdown",
   "id": "c02d9dab",
   "metadata": {},
   "source": [
    "#### Calculate VaR by different methods"
   ]
  },
  {
   "cell_type": "code",
   "execution_count": 14,
   "id": "4a28d038",
   "metadata": {},
   "outputs": [
    {
     "name": "stdout",
     "output_type": "stream",
     "text": [
      "The VaR value by using normal distribution is -0.012997.\n"
     ]
    }
   ],
   "source": [
    "# 1. Using normal distribution\n",
    "df2 = pd.read_csv(\"DailyPrices.csv\")\n",
    "df2 = df2.drop(columns = ['Date'])\n",
    "# Set equal weight\n",
    "m1 = df2.shape[1]\n",
    "weight1 = np.zeros((m1,1))\n",
    "for i in range(m1):\n",
    "    weight1[i] = 1/101\n",
    "\n",
    "    \n",
    "    \n",
    "def ror_matrix (data):\n",
    "    n = data.shape[0]\n",
    "    m = data.shape[1]\n",
    "    ror = np.zeros((n-1, m))\n",
    "    for i in range(m):\n",
    "        for j in range(n-1):\n",
    "            ror[j][i] = (data.iat[j+1,i] - data.iat[j,i]) / data.iat[j,i]\n",
    "    return ror \n",
    "ror1 = ror_matrix(df2)\n",
    "\n",
    "cov1 = np.cov(ror1.T)\n",
    "\n",
    "def cal_mean (data):\n",
    "    n = data.shape[0]\n",
    "    m = data.shape[1]\n",
    "    avg = np.zeros((m,1))\n",
    "    for i in range(m):\n",
    "        avg[i] = data[:,i].mean()\n",
    "    return avg \n",
    "avg_ror1 = cal_mean(ror1)\n",
    "\n",
    "port1_mean = avg_ror1.T @ weight1\n",
    "port1_std = np.sqrt(weight1.T @ cov1 @ weight1)\n",
    "    \n",
    "confidence_level = 0.05\n",
    "VaR1 = norm.ppf(confidence_level, port1_mean, port1_std)    \n",
    "\n",
    "print('The VaR value by using normal distribution is %f.' % VaR1)"
   ]
  },
  {
   "cell_type": "code",
   "execution_count": 15,
   "id": "fdcf2f10",
   "metadata": {},
   "outputs": [
    {
     "name": "stdout",
     "output_type": "stream",
     "text": [
      "The VaR value by using EWM is -0.010999.\n"
     ]
    }
   ],
   "source": [
    "# 2. Using normal distribution with an exponentially weight variance (lambda = 0.94)\n",
    "df2 = pd.read_csv(\"DailyPrices.csv\")\n",
    "df2 = df2.drop(columns = ['Date'])\n",
    "weights = np.full((101,1), 1/101)\n",
    "\n",
    "def ewm (x, exp_w, lamda):\n",
    "    w = []\n",
    "    sum_w = 0\n",
    "    n = x.shape[1]\n",
    "    for i in range(1, len(x.index)+1):\n",
    "        w.append((1-lamda)*lamda**(i-1))\n",
    "        sum_w = sum_w + w[i-1]\n",
    "    for i in range(len(x.index)):   \n",
    "        exp_w.append(w[i] / sum_w)\n",
    "    cov_matrix = np.zeros([n,n])\n",
    "    for i in range (len(x.index)):\n",
    "        for j in range (n):\n",
    "            x.iloc[i,j] = x.iloc[i,j] - np.mean(x.iloc[:,j])     \n",
    "    for i in range (n):\n",
    "        for j in range (n):\n",
    "            temp = exp_w * x.iloc[:,i]\n",
    "            cov_matrix[i,j] = np.dot(temp, x.iloc[:, j])     \n",
    "    return cov_matrix\n",
    "\n",
    "\n",
    "returns_dp = df2.pct_change()\n",
    "returns_dp = returns_dp.iloc[1:, :]\n",
    "\n",
    "exp_w = []\n",
    "ewm_cov_dp = ewm(returns_dp, exp_w, 0.94)\n",
    "ewm_std_dp = np.sqrt(weights.T @ ewm_cov_dp @ weights)\n",
    "\n",
    "for i in range(len(returns_dp)):\n",
    "    for j in range(len(returns_dp.columns)):\n",
    "        returns_dp.iloc[i][j] *= exp_w[i]\n",
    "\n",
    "ewm_avg_dp = returns_dp.mean()\n",
    "ewm_mean_dp = ewm_avg_dp @ weights    \n",
    "        \n",
    "alpha = 0.05\n",
    "VaR2 = norm.ppf(alpha, ewm_mean_dp[0], ewm_std_dp[0][0])\n",
    "print('The VaR value by using EWM is %f.' % VaR2)"
   ]
  },
  {
   "cell_type": "code",
   "execution_count": 16,
   "id": "fe32d2da",
   "metadata": {},
   "outputs": [
    {
     "name": "stdout",
     "output_type": "stream",
     "text": [
      "The VaR value by using MLE is -0.014601.\n"
     ]
    }
   ],
   "source": [
    "# 3. Using MLE fitted T distribution\n",
    "df2 = pd.read_csv(\"DailyPrices.csv\")\n",
    "df2 = df2.drop(columns = ['Date'])\n",
    "returns_dp = df2.pct_change()\n",
    "avg_dp = returns_dp.mean()\n",
    "cov_dp = returns_dp.cov()\n",
    "std_dp = np.sqrt(weights.T @ cov_dp @ weights)\n",
    "mean_dp = avg_dp @ weights\n",
    "\n",
    "dof = len(returns_dp.columns) - 1\n",
    "VaR3 = np.sqrt((dof-2)/dof) * t.ppf(alpha, dof) * std_dp - mean_dp\n",
    "print('The VaR value by using MLE is %f.' % VaR3[0][0])"
   ]
  },
  {
   "cell_type": "code",
   "execution_count": 17,
   "id": "7f12d070",
   "metadata": {},
   "outputs": [
    {
     "name": "stdout",
     "output_type": "stream",
     "text": [
      "[*********************100%***********************]  101 of 101 completed\n",
      "The VaR value by using historic simulation is -0.022949.\n",
      "[*********************100%***********************]  1 of 1 completed\n",
      "[*********************100%***********************]  1 of 1 completed\n",
      "[*********************100%***********************]  1 of 1 completed\n",
      "[*********************100%***********************]  1 of 1 completed\n",
      "[*********************100%***********************]  1 of 1 completed\n",
      "[*********************100%***********************]  1 of 1 completed\n",
      "[*********************100%***********************]  1 of 1 completed\n",
      "[*********************100%***********************]  1 of 1 completed\n",
      "[*********************100%***********************]  1 of 1 completed\n",
      "[*********************100%***********************]  1 of 1 completed\n",
      "[*********************100%***********************]  1 of 1 completed\n",
      "[*********************100%***********************]  1 of 1 completed\n",
      "[*********************100%***********************]  1 of 1 completed\n",
      "[*********************100%***********************]  1 of 1 completed\n",
      "[*********************100%***********************]  1 of 1 completed\n",
      "[*********************100%***********************]  1 of 1 completed\n",
      "[*********************100%***********************]  1 of 1 completed\n",
      "[*********************100%***********************]  1 of 1 completed\n",
      "[*********************100%***********************]  1 of 1 completed\n",
      "[*********************100%***********************]  1 of 1 completed\n",
      "[*********************100%***********************]  1 of 1 completed\n",
      "[*********************100%***********************]  1 of 1 completed\n",
      "[*********************100%***********************]  1 of 1 completed\n",
      "[*********************100%***********************]  1 of 1 completed\n",
      "[*********************100%***********************]  1 of 1 completed\n",
      "[*********************100%***********************]  1 of 1 completed\n",
      "[*********************100%***********************]  1 of 1 completed\n",
      "[*********************100%***********************]  1 of 1 completed\n",
      "[*********************100%***********************]  1 of 1 completed\n",
      "[*********************100%***********************]  1 of 1 completed\n",
      "[*********************100%***********************]  1 of 1 completed\n",
      "[*********************100%***********************]  1 of 1 completed\n",
      "[*********************100%***********************]  1 of 1 completed\n",
      "[*********************100%***********************]  1 of 1 completed\n",
      "[*********************100%***********************]  1 of 1 completed\n",
      "[*********************100%***********************]  1 of 1 completed\n",
      "[*********************100%***********************]  1 of 1 completed\n",
      "[*********************100%***********************]  1 of 1 completed\n",
      "[*********************100%***********************]  1 of 1 completed\n",
      "[*********************100%***********************]  1 of 1 completed\n",
      "[*********************100%***********************]  1 of 1 completed\n",
      "[*********************100%***********************]  1 of 1 completed\n",
      "[*********************100%***********************]  1 of 1 completed\n",
      "[*********************100%***********************]  1 of 1 completed\n",
      "[*********************100%***********************]  1 of 1 completed\n",
      "[*********************100%***********************]  1 of 1 completed\n",
      "[*********************100%***********************]  1 of 1 completed\n",
      "[*********************100%***********************]  1 of 1 completed\n",
      "[*********************100%***********************]  1 of 1 completed\n",
      "[*********************100%***********************]  1 of 1 completed\n",
      "[*********************100%***********************]  1 of 1 completed\n",
      "[*********************100%***********************]  1 of 1 completed\n",
      "[*********************100%***********************]  1 of 1 completed\n",
      "[*********************100%***********************]  1 of 1 completed\n",
      "[*********************100%***********************]  1 of 1 completed\n",
      "[*********************100%***********************]  1 of 1 completed\n",
      "[*********************100%***********************]  1 of 1 completed\n",
      "[*********************100%***********************]  1 of 1 completed\n",
      "[*********************100%***********************]  1 of 1 completed\n",
      "[*********************100%***********************]  1 of 1 completed\n",
      "[*********************100%***********************]  1 of 1 completed\n",
      "[*********************100%***********************]  1 of 1 completed\n",
      "[*********************100%***********************]  1 of 1 completed\n",
      "[*********************100%***********************]  1 of 1 completed\n",
      "[*********************100%***********************]  1 of 1 completed\n",
      "[*********************100%***********************]  1 of 1 completed\n",
      "[*********************100%***********************]  1 of 1 completed\n",
      "[*********************100%***********************]  1 of 1 completed\n",
      "[*********************100%***********************]  1 of 1 completed\n",
      "[*********************100%***********************]  1 of 1 completed\n",
      "[*********************100%***********************]  1 of 1 completed\n",
      "[*********************100%***********************]  1 of 1 completed\n",
      "[*********************100%***********************]  1 of 1 completed\n",
      "[*********************100%***********************]  1 of 1 completed\n",
      "[*********************100%***********************]  1 of 1 completed\n",
      "[*********************100%***********************]  1 of 1 completed\n",
      "[*********************100%***********************]  1 of 1 completed\n",
      "[*********************100%***********************]  1 of 1 completed\n",
      "[*********************100%***********************]  1 of 1 completed\n",
      "[*********************100%***********************]  1 of 1 completed\n",
      "[*********************100%***********************]  1 of 1 completed\n",
      "[*********************100%***********************]  1 of 1 completed\n",
      "[*********************100%***********************]  1 of 1 completed\n",
      "[*********************100%***********************]  1 of 1 completed\n",
      "[*********************100%***********************]  1 of 1 completed\n",
      "[*********************100%***********************]  1 of 1 completed\n",
      "[*********************100%***********************]  1 of 1 completed\n",
      "[*********************100%***********************]  1 of 1 completed\n",
      "[*********************100%***********************]  1 of 1 completed\n",
      "[*********************100%***********************]  1 of 1 completed\n",
      "[*********************100%***********************]  1 of 1 completed\n",
      "[*********************100%***********************]  1 of 1 completed\n",
      "[*********************100%***********************]  1 of 1 completed\n",
      "[*********************100%***********************]  1 of 1 completed\n",
      "[*********************100%***********************]  1 of 1 completed\n",
      "[*********************100%***********************]  1 of 1 completed\n",
      "[*********************100%***********************]  1 of 1 completed\n",
      "[*********************100%***********************]  1 of 1 completed\n",
      "[*********************100%***********************]  1 of 1 completed\n",
      "[*********************100%***********************]  1 of 1 completed\n",
      "[*********************100%***********************]  1 of 1 completed\n"
     ]
    },
    {
     "data": {
      "image/png": "[encoded data removed]",
      "text/plain": [
       "<Figure size 720x720 with 1 Axes>"
      ]
     },
     "metadata": {
      "needs_background": "light"
     },
     "output_type": "display_data"
    }
   ],
   "source": [
    "# 4. Using historic simulation\n",
    "# import data\n",
    "start = dt.datetime(2019, 1, 1)\n",
    "end = dt.datetime.now()\n",
    "stock_name = list(df2.columns)\n",
    "df_yahoo = yf.download(stock_name, start, end)['Adj Close']\n",
    "\n",
    "# Calculate VaR\n",
    "return4 = df_yahoo.pct_change()\n",
    "cov4 = return4.cov()\n",
    "avg_return4 = return4.mean()\n",
    "port_mean4 = avg_return4 @ weight1\n",
    "port_std4 = np.sqrt(weight1.T @ cov4 @ weight1)\n",
    "confidence_level = 0.05 \n",
    "VaR4 = norm.ppf(confidence_level, port_mean4, port_std4)\n",
    "print('The VaR value by using historic simulation is %f.' % VaR4)\n",
    "\n",
    "plt.figure(figsize = (10,10))\n",
    "for i in range(101):\n",
    "    dataframe = yf.download(stock_name[i], start, end)['Adj Close']\n",
    "    temp = dataframe.pct_change()\n",
    "    sns.kdeplot(temp)\n",
    "    \n",
    "plt.show()"
   ]
  },
  {
   "cell_type": "code",
   "execution_count": 18,
   "id": "1516de3d",
   "metadata": {},
   "outputs": [
    {
     "data": {
      "text/html": [
       "<div>\n",
       "<style scoped>\n",
       "    .dataframe tbody tr th:only-of-type {\n",
       "        vertical-align: middle;\n",
       "    }\n",
       "\n",
       "    .dataframe tbody tr th {\n",
       "        vertical-align: top;\n",
       "    }\n",
       "\n",
       "    .dataframe thead th {\n",
       "        text-align: right;\n",
       "    }\n",
       "</style>\n",
       "<table border=\"1\" class=\"dataframe\">\n",
       "  <thead>\n",
       "    <tr style=\"text-align: right;\">\n",
       "      <th></th>\n",
       "      <th>Method</th>\n",
       "      <th>VaR</th>\n",
       "    </tr>\n",
       "  </thead>\n",
       "  <tbody>\n",
       "    <tr>\n",
       "      <th>0</th>\n",
       "      <td>Normal Distribution</td>\n",
       "      <td>[[-0.012996771539563613]]</td>\n",
       "    </tr>\n",
       "    <tr>\n",
       "      <th>1</th>\n",
       "      <td>EWM</td>\n",
       "      <td>-0.010999</td>\n",
       "    </tr>\n",
       "    <tr>\n",
       "      <th>2</th>\n",
       "      <td>MLE</td>\n",
       "      <td>0\n",
       "0 -0.014601</td>\n",
       "    </tr>\n",
       "    <tr>\n",
       "      <th>3</th>\n",
       "      <td>Historic Simulation</td>\n",
       "      <td>[[-0.02294909720592096]]</td>\n",
       "    </tr>\n",
       "  </tbody>\n",
       "</table>\n",
       "</div>"
      ],
      "text/plain": [
       "                Method                        VaR\n",
       "0  Normal Distribution  [[-0.012996771539563613]]\n",
       "1                  EWM                  -0.010999\n",
       "2                  MLE              0\n",
       "0 -0.014601\n",
       "3  Historic Simulation   [[-0.02294909720592096]]"
      ]
     },
     "execution_count": 18,
     "metadata": {},
     "output_type": "execute_result"
    }
   ],
   "source": [
    "name = ['Normal Distribution', 'EWM', 'MLE', 'Historic Simulation']\n",
    "var = [VaR1, VaR2, VaR3, VaR4]\n",
    "result = pd.DataFrame(list(zip(name, var)), columns = ['Method','VaR'])\n",
    "result"
   ]
  },
  {
   "cell_type": "markdown",
   "id": "8d118bde",
   "metadata": {},
   "source": [
    "# Question 3"
   ]
  },
  {
   "cell_type": "code",
   "execution_count": 19,
   "id": "20b99260",
   "metadata": {},
   "outputs": [],
   "source": [
    "# Load Database\n",
    "df_A = pd.read_csv(\"portfolio_A.csv\")\n",
    "df_B= pd.read_csv(\"portfolio_B.csv\")\n",
    "df_C = pd.read_csv(\"portfolio_C.csv\")\n",
    "df_total = pd.read_csv(\"portfolio.csv\")\n",
    "df_price = pd.read_csv(\"DailyPrices.csv\")"
   ]
  },
  {
   "cell_type": "code",
   "execution_count": 20,
   "id": "2d5a13ed",
   "metadata": {},
   "outputs": [],
   "source": [
    "# Function of calculate weight by using first day price\n",
    "def cal_weight (data_hold, data_price):\n",
    "    n = data_hold.shape[0]\n",
    "    \n",
    "    total = 0\n",
    "    val = np.zeros((n,1))\n",
    "    for i in range(n):\n",
    "        name = data_hold.Stock[i]\n",
    "        val[i] = data_price[name][0] * data_hold.Holding[i]\n",
    "        total = total + val[i]\n",
    "        \n",
    "    weight = np.zeros((n,1))\n",
    "    for j in range(n):\n",
    "        weight[j] = val[j] / total\n",
    "        \n",
    "    return weight"
   ]
  },
  {
   "cell_type": "code",
   "execution_count": 21,
   "id": "fbc0276e",
   "metadata": {},
   "outputs": [],
   "source": [
    "# Calculate the weight\n",
    "weight_A = cal_weight(df_A, df_price)\n",
    "weight_B = cal_weight(df_B, df_price)\n",
    "weight_C = cal_weight(df_C, df_price)\n",
    "\n",
    "weight_total = cal_weight(df_total, df_price)"
   ]
  },
  {
   "cell_type": "code",
   "execution_count": 22,
   "id": "2c824aa1",
   "metadata": {},
   "outputs": [],
   "source": [
    "# Function of find out the price for each portfolio\n",
    "def port_price (data_hold, data_price):\n",
    "    n = data_hold.shape[0]\n",
    "    m = data_price.shape[0]\n",
    "    \n",
    "    \n",
    "    port = np.zeros((m,n))\n",
    "    for i in range(n):\n",
    "        name = data_hold.Stock[i]\n",
    "        port[:,i] = data_price[name]\n",
    "            \n",
    "    return port"
   ]
  },
  {
   "cell_type": "code",
   "execution_count": 23,
   "id": "cadd712a",
   "metadata": {},
   "outputs": [],
   "source": [
    "# Get the price for each portfolio\n",
    "price_A = port_price(df_A, df_price)\n",
    "price_B = port_price(df_B, df_price)\n",
    "price_C = port_price(df_C, df_price)\n",
    "\n",
    "price_total = port_price(df_total, df_price)"
   ]
  },
  {
   "cell_type": "code",
   "execution_count": 24,
   "id": "65445fb5",
   "metadata": {},
   "outputs": [],
   "source": [
    "# Calculate the rate of return by using Arithmetic method\n",
    "def ror_matrix (data):\n",
    "    n = data.shape[0]\n",
    "    m = data.shape[1]\n",
    "    \n",
    "    ror = np.zeros((n-1, m))\n",
    "    for i in range(m):\n",
    "        for j in range(n-1):\n",
    "            ror[j][i] = (data[j+1][i] - data[j][i]) / data[j][i]\n",
    "            \n",
    "    return ror"
   ]
  },
  {
   "cell_type": "code",
   "execution_count": 25,
   "id": "335f217e",
   "metadata": {},
   "outputs": [],
   "source": [
    "# Calculate the ror of each \n",
    "ror_A = ror_matrix(price_A)\n",
    "ror_B = ror_matrix(price_B)\n",
    "ror_C = ror_matrix(price_C)\n",
    "\n",
    "ror_total = ror_matrix(price_total)"
   ]
  },
  {
   "cell_type": "code",
   "execution_count": 26,
   "id": "e5819994",
   "metadata": {},
   "outputs": [],
   "source": [
    "# Calculate the covariance matrix for each ror\n",
    "cov_A = np.cov(ror_A.T)\n",
    "cov_B = np.cov(ror_B.T)\n",
    "cov_C = np.cov(ror_C.T)\n",
    "\n",
    "cov_total = np.cov(ror_total.T)"
   ]
  },
  {
   "cell_type": "code",
   "execution_count": 27,
   "id": "93686389",
   "metadata": {},
   "outputs": [],
   "source": [
    "def cal_mean (data):\n",
    "    n = data.shape[0]\n",
    "    m = data.shape[1]\n",
    "    \n",
    "    avg = np.zeros((m,1))\n",
    "    for i in range(m):\n",
    "        avg[i] = data[:,i].mean()\n",
    "        \n",
    "    return avg"
   ]
  },
  {
   "cell_type": "code",
   "execution_count": 28,
   "id": "dc84a915",
   "metadata": {},
   "outputs": [],
   "source": [
    "# Calculate the average return for each portfolio\n",
    "avg_ror_A = cal_mean(ror_A)\n",
    "avg_ror_B = cal_mean(ror_B)\n",
    "avg_ror_C = cal_mean(ror_C)\n",
    "\n",
    "avg_ror_total = cal_mean(ror_total)"
   ]
  },
  {
   "cell_type": "code",
   "execution_count": 29,
   "id": "bfe31a20",
   "metadata": {},
   "outputs": [],
   "source": [
    "# Calculate the portfolio mean and std\n",
    "\n",
    "# Port_A\n",
    "port_A_mean = avg_ror_A.T @ weight_A\n",
    "port_A_std = np.sqrt(weight_A.T @ cov_A @ weight_A)\n",
    "\n",
    "# Port_B\n",
    "port_B_mean = avg_ror_B.T @ weight_B\n",
    "port_B_std = np.sqrt(weight_B.T @ cov_B @ weight_B)\n",
    "\n",
    "# Port_C\n",
    "port_C_mean = avg_ror_C.T @ weight_C\n",
    "port_C_std = np.sqrt(weight_C.T @ cov_C @ weight_C)\n",
    "\n",
    "\n",
    "# Port_total\n",
    "port_total_mean = avg_ror_total.T @ weight_total\n",
    "port_total_std = np.sqrt(weight_total.T @ cov_total @ weight_total)"
   ]
  },
  {
   "cell_type": "code",
   "execution_count": 30,
   "id": "ce46ce67",
   "metadata": {},
   "outputs": [],
   "source": [
    "# Calculate VaR for each portfolio with confidence_level = 0.05\n",
    "confidence_level = 0.05\n",
    "\n",
    "VaR_A = norm.ppf(confidence_level, port_A_mean, port_A_std)\n",
    "VaR_B = norm.ppf(confidence_level, port_B_mean, port_B_std)\n",
    "VaR_C = norm.ppf(confidence_level, port_C_mean, port_C_std)\n",
    "\n",
    "VaR_total = norm.ppf(confidence_level, port_total_mean, port_total_std)"
   ]
  },
  {
   "cell_type": "code",
   "execution_count": 31,
   "id": "e82dfaf7",
   "metadata": {},
   "outputs": [
    {
     "data": {
      "text/html": [
       "<div>\n",
       "<style scoped>\n",
       "    .dataframe tbody tr th:only-of-type {\n",
       "        vertical-align: middle;\n",
       "    }\n",
       "\n",
       "    .dataframe tbody tr th {\n",
       "        vertical-align: top;\n",
       "    }\n",
       "\n",
       "    .dataframe thead th {\n",
       "        text-align: right;\n",
       "    }\n",
       "</style>\n",
       "<table border=\"1\" class=\"dataframe\">\n",
       "  <thead>\n",
       "    <tr style=\"text-align: right;\">\n",
       "      <th></th>\n",
       "      <th>Portfolio</th>\n",
       "      <th>VaR under alpha = 0.05</th>\n",
       "    </tr>\n",
       "  </thead>\n",
       "  <tbody>\n",
       "    <tr>\n",
       "      <th>0</th>\n",
       "      <td>Portfolio A</td>\n",
       "      <td>[[-0.016101535570157737]]</td>\n",
       "    </tr>\n",
       "    <tr>\n",
       "      <th>1</th>\n",
       "      <td>Portfolio B</td>\n",
       "      <td>[[-0.014637540738180858]]</td>\n",
       "    </tr>\n",
       "    <tr>\n",
       "      <th>2</th>\n",
       "      <td>Portfolio C</td>\n",
       "      <td>[[-0.010411346833820211]]</td>\n",
       "    </tr>\n",
       "    <tr>\n",
       "      <th>3</th>\n",
       "      <td>Portfolio Total</td>\n",
       "      <td>[[-0.013394625158109992]]</td>\n",
       "    </tr>\n",
       "  </tbody>\n",
       "</table>\n",
       "</div>"
      ],
      "text/plain": [
       "         Portfolio     VaR under alpha = 0.05\n",
       "0      Portfolio A  [[-0.016101535570157737]]\n",
       "1      Portfolio B  [[-0.014637540738180858]]\n",
       "2      Portfolio C  [[-0.010411346833820211]]\n",
       "3  Portfolio Total  [[-0.013394625158109992]]"
      ]
     },
     "execution_count": 31,
     "metadata": {},
     "output_type": "execute_result"
    }
   ],
   "source": [
    "name = ['Portfolio A', 'Portfolio B', 'Portfolio C', 'Portfolio Total']\n",
    "var = [VaR_A, VaR_B, VaR_C, VaR_total]\n",
    "result = pd.DataFrame(list(zip(name, var)), columns = ['Portfolio','VaR under alpha = 0.05'])\n",
    "result"
   ]
  }
 ],
 "metadata": {
  "kernelspec": {
   "display_name": "Python 3",
   "language": "python",
   "name": "python3"
  },
  "language_info": {
   "codemirror_mode": {
    "name": "ipython",
    "version": 3
   },
   "file_extension": ".py",
   "mimetype": "text/x-python",
   "name": "python",
   "nbconvert_exporter": "python",
   "pygments_lexer": "ipython3",
   "version": "3.8.8"
  }
 },
 "nbformat": 4,
 "nbformat_minor": 5
}
