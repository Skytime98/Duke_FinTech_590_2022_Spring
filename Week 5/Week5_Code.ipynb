{
 "cells": [
  {
   "cell_type": "code",
   "execution_count": 1,
   "id": "743ee57f",
   "metadata": {},
   "outputs": [],
   "source": [
    "import numpy as np\n",
    "import pandas as pd\n",
    "import matplotlib.pyplot as plt\n",
    "import datetime as dt\n",
    "import yfinance as yf\n",
    "from pandas_datareader import data as pdr\n",
    "from scipy.stats import norm, t\n",
    "import seaborn as sns\n",
    "\n",
    "np.random.seed(1998)"
   ]
  },
  {
   "cell_type": "markdown",
   "id": "ff8d08d6",
   "metadata": {},
   "source": [
    "# Question 1"
   ]
  },
  {
   "cell_type": "code",
   "execution_count": 2,
   "id": "646b83dc",
   "metadata": {},
   "outputs": [],
   "source": [
    "# Load the data\n",
    "df = pd.read_csv('problem1.csv')\n",
    "data = df['x']\n",
    "\n",
    "mean = data.mean(0)\n",
    "std = np.sqrt(data.var())"
   ]
  },
  {
   "cell_type": "markdown",
   "id": "572303bc",
   "metadata": {},
   "source": [
    "## The formula that I used to calculate the parametic VaR and CVaR"
   ]
  },
  {
   "cell_type": "markdown",
   "id": "82235a43",
   "metadata": {},
   "source": [
    "I will use this formula to calculate the VaR and CVaR for t-distribution\n",
    "![t-distribution_VaR_CVaR_formula](./t-distribution_VaR_CVaR_formula.png)\n",
    "*note:   \n",
    "$v$ is the degree of freedom, and we may set the dof equal to the number of stocks that we include in the portfolio.  \n",
    "I use $x$ to represent the $x_{a,v}$ at below function, and it will be represented by ``t.ppf()``  \n",
    "$f_{v}$ will be represented by ``t.pdf()``"
   ]
  },
  {
   "cell_type": "markdown",
   "id": "547199bb",
   "metadata": {},
   "source": [
    "This is the formula to calculate the CVaR under normal distribution\n",
    "![CVaR for normal distribution](./CVaR_for_normal_distribution.png)\n",
    "*note:   \n",
    "``norm.pdf()`` represents the standard normal density function  \n",
    " ``norm.ppf()`` represents a quantile of the standard normal distribution"
   ]
  },
  {
   "cell_type": "code",
   "execution_count": 3,
   "id": "427ce8a7",
   "metadata": {},
   "outputs": [],
   "source": [
    "# Calculate VaR based different distribution\n",
    "def parametricVaR (mean, std, distribution, alpha, dof):\n",
    "    if distribution == \"normal\":\n",
    "        VaR = (1-alpha/100) * std - mean #since normal distribution is symmetric, it is easy to calculate by using 1-alpha/100\n",
    "    elif distribution == \"t-distribution\":\n",
    "        VaR = np.sqrt((dof-2)/dof) * t.ppf(1-alpha/100, dof) * std - mean\n",
    "    else:\n",
    "        raise TypeError(\"Expected the distribution to be normal or t-distribution.\")\n",
    "    return VaR"
   ]
  },
  {
   "cell_type": "code",
   "execution_count": 4,
   "id": "f51daed4",
   "metadata": {},
   "outputs": [],
   "source": [
    "# Calculate CVaR based different distribution\n",
    "def parametricCVaR (mean, std, distribution, alpha, dof):\n",
    "    if distribution == \"normal\":\n",
    "        CVaR = (alpha/100)**-1 * norm.pdf( norm.ppf(alpha/100) ) * std - mean\n",
    "    elif distribution == \"t-distribution\":\n",
    "        x = t.ppf(alpha/100, dof)\n",
    "        CVaR = -1/(alpha/100) * (1-dof)**-1 * (dof-2+x**2) * t.pdf(x,dof) *std - mean\n",
    "    else:\n",
    "        raise TypeError(\"Expected the distribution to be normal or t-distribution.\")\n",
    "    return CVaR"
   ]
  },
  {
   "cell_type": "code",
   "execution_count": 5,
   "id": "d41ac9fb",
   "metadata": {},
   "outputs": [],
   "source": [
    "# Calculate the VaR and CVaR with real, normal, t database\n",
    "alpha = 5\n",
    "dof = len(data) - 1\n",
    "\n",
    "# expected VaR and CVaR\n",
    "empVaR = np.percentile(data, alpha)\n",
    "belowVaR = data <= empVaR\n",
    "empCVaR = data[belowVaR].mean()\n",
    "\n",
    "# normal distribution \n",
    "normalVaR = parametricVaR(mean, std, 'normal', alpha, dof)\n",
    "normalCVaR = parametricCVaR(mean, std, 'normal', alpha, dof)\n",
    "\n",
    "# t distribution\n",
    "tVaR = parametricVaR(mean, std, 't-distribution', alpha, dof)\n",
    "tCVaR = parametricCVaR(mean, std, 't-distribution', alpha, dof)"
   ]
  },
  {
   "cell_type": "markdown",
   "id": "0e87a861",
   "metadata": {},
   "source": [
    "## Show the result table and distribution plot with VaR and CVaR"
   ]
  },
  {
   "cell_type": "code",
   "execution_count": 6,
   "id": "8c7880eb",
   "metadata": {},
   "outputs": [
    {
     "data": {
      "text/html": [
       "<div>\n",
       "<style scoped>\n",
       "    .dataframe tbody tr th:only-of-type {\n",
       "        vertical-align: middle;\n",
       "    }\n",
       "\n",
       "    .dataframe tbody tr th {\n",
       "        vertical-align: top;\n",
       "    }\n",
       "\n",
       "    .dataframe thead th {\n",
       "        text-align: right;\n",
       "    }\n",
       "</style>\n",
       "<table border=\"1\" class=\"dataframe\">\n",
       "  <thead>\n",
       "    <tr style=\"text-align: right;\">\n",
       "      <th></th>\n",
       "      <th>Situation</th>\n",
       "      <th>VaR and CVaR under 95%</th>\n",
       "    </tr>\n",
       "  </thead>\n",
       "  <tbody>\n",
       "    <tr>\n",
       "      <th>0</th>\n",
       "      <td>Empirical VaR</td>\n",
       "      <td>0.075981</td>\n",
       "    </tr>\n",
       "    <tr>\n",
       "      <th>1</th>\n",
       "      <td>Empirical CVaR</td>\n",
       "      <td>0.116777</td>\n",
       "    </tr>\n",
       "    <tr>\n",
       "      <th>2</th>\n",
       "      <td>Normal VaR</td>\n",
       "      <td>0.047348</td>\n",
       "    </tr>\n",
       "    <tr>\n",
       "      <th>3</th>\n",
       "      <td>Normal CVaR</td>\n",
       "      <td>0.101774</td>\n",
       "    </tr>\n",
       "    <tr>\n",
       "      <th>4</th>\n",
       "      <td>t-dist VaR</td>\n",
       "      <td>0.081323</td>\n",
       "    </tr>\n",
       "    <tr>\n",
       "      <th>5</th>\n",
       "      <td>t-dist CVaR</td>\n",
       "      <td>0.101660</td>\n",
       "    </tr>\n",
       "  </tbody>\n",
       "</table>\n",
       "</div>"
      ],
      "text/plain": [
       "        Situation  VaR and CVaR under 95%\n",
       "0   Empirical VaR                0.075981\n",
       "1  Empirical CVaR                0.116777\n",
       "2      Normal VaR                0.047348\n",
       "3     Normal CVaR                0.101774\n",
       "4      t-dist VaR                0.081323\n",
       "5     t-dist CVaR                0.101660"
      ]
     },
     "execution_count": 6,
     "metadata": {},
     "output_type": "execute_result"
    }
   ],
   "source": [
    "# Show the result\n",
    "name = [\"Empirical VaR\", \"Empirical CVaR\", \"Normal VaR\", \"Normal CVaR\", \"t-dist VaR\", \"t-dist CVaR\"]\n",
    "value = [-empVaR, -empCVaR, normalVaR, normalCVaR, tVaR, tCVaR]\n",
    "\n",
    "result = pd.DataFrame(list(zip(name, value)), columns = [\"Situation\", \"VaR and CVaR under 95%\"])\n",
    "result"
   ]
  },
  {
   "cell_type": "code",
   "execution_count": 7,
   "id": "bba8d9af",
   "metadata": {},
   "outputs": [
    {
     "data": {
      "text/plain": [
       "Text(-0.12166020897539315, -0.2, 'tCVaR')"
      ]
     },
     "execution_count": 7,
     "metadata": {},
     "output_type": "execute_result"
    },
    {
     "data": {
      "image/png": "[encoded data removed]",
      "text/plain": [
       "<Figure size 432x288 with 1 Axes>"
      ]
     },
     "metadata": {
      "needs_background": "light"
     },
     "output_type": "display_data"
    }
   ],
   "source": [
    "plt.plot()\n",
    "sns.kdeplot(data)\n",
    "plt.xlabel('Value X')\n",
    "plt.ylabel('Density')\n",
    "plt.title('Distribution of X with VaR and CVaR')\n",
    "\n",
    "# Normal VaR point\n",
    "plt.scatter([-normalVaR],[0], s=25, c='r')\n",
    "plt.text((-normalVaR+0.02),0.2, 'nVaR', ha='center', va='bottom', fontsize=10.5)\n",
    "\n",
    "# Normal CVaR point\n",
    "plt.scatter([-normalCVaR],[0], s=25, c='r')\n",
    "plt.text((-normalCVaR-0.02),0.2, 'nCVaR', ha='center', va='bottom', fontsize=10.5)\n",
    "\n",
    "# tVaR point\n",
    "plt.scatter([-tVaR],[0], s=25, c='g')\n",
    "plt.text((-tVaR+0.02),-0.2, 'tVaR', ha='center', va='bottom', fontsize=10.5)\n",
    "\n",
    "# Normal CVaR point\n",
    "plt.scatter([-tCVaR],[0], s=25, c='g')\n",
    "plt.text((-tCVaR-0.02),-0.2, 'tCVaR', ha='center', va='bottom', fontsize=10.5)"
   ]
  },
  {
   "cell_type": "markdown",
   "id": "dff26b9e",
   "metadata": {},
   "source": [
    "# Question 2"
   ]
  },
  {
   "cell_type": "markdown",
   "id": "6ae2b14e",
   "metadata": {},
   "source": [
    "## 1. Covariance estimation techniques"
   ]
  },
  {
   "cell_type": "markdown",
   "id": "36312ca6",
   "metadata": {},
   "source": [
    "### Exponential Weighted Method"
   ]
  },
  {
   "cell_type": "code",
   "execution_count": 8,
   "id": "dc058903",
   "metadata": {},
   "outputs": [],
   "source": [
    "import numpy as np\n",
    "import pandas as pd"
   ]
  },
  {
   "cell_type": "code",
   "execution_count": 9,
   "id": "8b64e695",
   "metadata": {},
   "outputs": [],
   "source": [
    "# Write the function to get the exponentially weighted covariance matrix\n",
    "def EWM (df,timeType, lam):\n",
    "    n = df.shape[0]\n",
    "    m = df.shape[1]\n",
    "    \n",
    "    weights = np.empty(n)\n",
    "    \n",
    "    #if time is list from past to current\n",
    "    if timeType == \"increase\":\n",
    "        for i in range(n):\n",
    "            weights[i] = (1-lam)*lam**(i-1)\n",
    "        weights /= np.sum(weights) #normalize weight\n",
    "    \n",
    "    #if time is list from current to past\n",
    "    elif timeType == \"decrease\":\n",
    "        for i in range(n):\n",
    "            weights[i] = (1-lam)*lam**(i-1)\n",
    "        weights = np.flip(weights)\n",
    "        weights /= np.sum(weights) #normalize weight\n",
    "        \n",
    "    else:\n",
    "        raise TypeError (\"Expected DataFrame.\")\n",
    "            \n",
    "            \n",
    "            \n",
    "            \n",
    "    #after we get the weights, we need to apply weights into covariance matirx        \n",
    "    cov_matrix = np.empty(shape = [m, m])\n",
    "    \n",
    "    #calculate each columns mean\n",
    "    col_mean = np.empty(m)\n",
    "    for i in range(m):\n",
    "        col_mean[i] = np.mean( df.iloc[:,i] )\n",
    "    \n",
    "    #stpe1\n",
    "    for i in range(n):\n",
    "        for j in range(m):\n",
    "            df.iloc[i,j] = df.iloc[i,j] - col_mean[j]\n",
    "     \n",
    "    #step2\n",
    "    for i in range(m):\n",
    "        for j in range(m):\n",
    "            temp = weights * df.iloc[:,i]\n",
    "            cov_matrix[i,j] = np.dot(temp, df.iloc[:,j])\n",
    "            \n",
    "    return cov_matrix"
   ]
  },
  {
   "cell_type": "markdown",
   "id": "e5f8cf86",
   "metadata": {},
   "source": [
    "## 2. Non PSD fixes for correlation matrices"
   ]
  },
  {
   "cell_type": "markdown",
   "id": "63ee217e",
   "metadata": {},
   "source": [
    "### Rebonato and Jackel's Method (Near PSD)"
   ]
  },
  {
   "cell_type": "code",
   "execution_count": 10,
   "id": "fd5a91d4",
   "metadata": {},
   "outputs": [],
   "source": [
    "import numpy as np\n",
    "import pandas as pd\n",
    "import matplotlib.pyplot as plt\n",
    "from numpy import linalg as LA"
   ]
  },
  {
   "cell_type": "code",
   "execution_count": 11,
   "id": "0b38d24e",
   "metadata": {},
   "outputs": [],
   "source": [
    "# Near PSD function\n",
    "def near_psd(A):\n",
    "    n = A.shape[0]\n",
    "    eigval, eigvec = np.linalg.eigh(A)\n",
    "    val = np.matrix(np.maximum(eigval, 0))\n",
    "    vec = np.matrix(eigvec)\n",
    "    \n",
    "    T = 1/(np.multiply(vec,vec) * val.T)\n",
    "    T = np.matrix(np.sqrt(np.diag(np.array(T).reshape((n)) ))) #already take the square root of T\n",
    "    B = T * vec * np.diag(np.array(np.sqrt(val)).reshape((n)))\n",
    "    out = B * B.T\n",
    "    \n",
    "    return out"
   ]
  },
  {
   "cell_type": "markdown",
   "id": "3ae7eaae",
   "metadata": {},
   "source": [
    "### Higham PSD"
   ]
  },
  {
   "cell_type": "code",
   "execution_count": 12,
   "id": "99808201",
   "metadata": {},
   "outputs": [],
   "source": [
    "import numpy as np\n",
    "import pandas as pd\n",
    "import matplotlib.pyplot as plt\n",
    "from numpy import linalg as LA"
   ]
  },
  {
   "cell_type": "code",
   "execution_count": 13,
   "id": "eec10739",
   "metadata": {},
   "outputs": [],
   "source": [
    "# Higham PSD function\n",
    "#*note: for higham PSD, we need to input the np.array type of data. DataFrame does not work\n",
    "\n",
    "def _getAplus(A):\n",
    "    eigval, eigvec = np.linalg.eigh(A)\n",
    "    Q = np.matrix(eigvec)\n",
    "    xdiag = np.matrix(np.diag(np.maximum(eigval, 0)))\n",
    "    return eigvec @ xdiag @ eigvec.T\n",
    "\n",
    "def _getPs(A, W=None):\n",
    "    W05 = np.matrix(W**.5)\n",
    "    iW = W05.I\n",
    "    return  iW @ _getAplus(W05 @ A @ W05) @ iW\n",
    "\n",
    "def _getPu(A, W=None):\n",
    "    Aret = A.copy()\n",
    "    for i in range(0, A.shape[0]):\n",
    "        Aret[i,i] = 1\n",
    "    return Aret\n",
    "\n",
    "def _wgtNorm(A, W = None):\n",
    "    W05 = np.sqrt(W)\n",
    "    W05 = W05 @ A @ W05\n",
    "    return (W05 * W05).sum()\n",
    "\n",
    "def higham_nearestPSD(pc, W = None, epsilon = 1e-9, maxIter = 1000, tol = 1e-9):\n",
    "    n = pc.shape[0]\n",
    "    if W == None:\n",
    "        W = np.identity(n)\n",
    "        \n",
    "    deltaS = np.zeros((n,n))\n",
    "    \n",
    "    Yk = pc.copy()\n",
    "    norml = 9999999\n",
    "    i = 1\n",
    "    \n",
    "    while i <= maxIter:\n",
    "        Rk = Yk - deltaS\n",
    "        Xk = _getPs(Rk, W)\n",
    "        deltaS = Xk - Rk\n",
    "        Yk = _getPu(Xk, W)\n",
    "        norm = _wgtNorm(Yk - pc, W)\n",
    "        \n",
    "        w, v = np.linalg.eigh(Yk)\n",
    "        minEigVal = np.min(w)\n",
    "        \n",
    "        if ((norm - norml) < tol) and (minEigVal > -epsilon):\n",
    "            break\n",
    "            \n",
    "        norml = norm\n",
    "        i = i + 1\n",
    "        \n",
    "    if i < maxIter:\n",
    "        print(\"Converged in %d iterations.\\n\" % i)\n",
    "    else:\n",
    "        print(\"Converged failed after %d iterations.\\n\" % (i-1))\n",
    "        \n",
    "    return Yk "
   ]
  },
  {
   "cell_type": "markdown",
   "id": "44e90900",
   "metadata": {},
   "source": [
    "## Simulation Method and Calculate VaR and CVaR"
   ]
  },
  {
   "cell_type": "markdown",
   "id": "cacece86",
   "metadata": {},
   "source": [
    "### Normal Monte Carlo"
   ]
  },
  {
   "cell_type": "code",
   "execution_count": 14,
   "id": "2cd4cfb1",
   "metadata": {},
   "outputs": [],
   "source": [
    "# Monte Carlo VaR\n",
    "# VaR Function\n",
    "def _mcVaR(returns, alpha):\n",
    "    # first check wheather returns is series\n",
    "    if isinstance(returns, pd.Series):\n",
    "        return np.percentile(returns, alpha)\n",
    "    else:\n",
    "        raise TypeError(\"You need to input a series.\")\n",
    "\n",
    "def mc_VaR (returns, mc_sim, time, alpha):\n",
    "    meanReturns = returns.mean()\n",
    "    covMatrix = returns.cov()\n",
    "    \n",
    "    covMatrix = near_psd(np.array(covMatrix))\n",
    "    #covMatrix = covMatrix\n",
    "    \n",
    "    weights = np.random.random(len(meanReturns))\n",
    "    weights /= np.sum(weights) # normalize the weight\n",
    "    \n",
    "\n",
    "    meanMatrix = np.full(shape = (time, len(weights)), fill_value = meanReturns)\n",
    "    meanMatrix = meanMatrix.T\n",
    "\n",
    "    portfolio_sim = np.full(shape = (time, mc_sim), fill_value = 0)\n",
    "\n",
    "    # MC loop\n",
    "\n",
    "    # we can set a initial value of portofolio to see the absolute value\n",
    "    # initial_money = 10000\n",
    "    for m in range(mc_sim):\n",
    "        '''\n",
    "        Here we assume that daily return are distributed by a multvariate normal distribution\n",
    "        Using Cholesky Decomposition, we get L, which is lower triangle.\n",
    "        return = mean + L * Z, where Z is normal distribution (0,1)\n",
    "        '''\n",
    "        Z = np.random.normal(size = (time, len(weights)))\n",
    "        L = np.linalg.cholesky(covMatrix)\n",
    "        dailyReturns = meanMatrix + np.inner(L, Z)\n",
    "\n",
    "        portfolio_sim[:,m] = np.cumprod(np.inner(weights, dailyReturns.T) + 1) # FV = PV * (1 + r)^t\n",
    "\n",
    "    lastDay_return = portfolio_sim[-1,:]\n",
    "    _mcVaR(lastDay_return, alpha = alpha)"
   ]
  },
  {
   "cell_type": "code",
   "execution_count": 15,
   "id": "0bb79ff9",
   "metadata": {},
   "outputs": [],
   "source": [
    "# Monte Carlo CVaR\n",
    "# CVaR Function\n",
    "def _mcCVaR(returns, alpha):\n",
    "    # first check wheather returns is series\n",
    "    if isinstance(returns, pd.Series):\n",
    "        belowVaR = returns <= mcVaR(returns, alpha = alpha)\n",
    "        return returns[belowVaR].mean()\n",
    "    else:\n",
    "        raise TypeError(\"You need to input a series.\")\n",
    "        \n",
    "        \n",
    "def mc_CVaR (returns, mc_sim, time, alpha):\n",
    "    meanReturns = returns.mean()\n",
    "    covMatrix = returns.cov()\n",
    "    \n",
    "    covMatrix = near_psd(np.array(covMatrix))\n",
    "    #covMatrix = covMatrix\n",
    "    \n",
    "    weights = np.random.random(len(meanReturns))\n",
    "    weights /= np.sum(weights) # normalize the weight\n",
    "    \n",
    "\n",
    "    meanMatrix = np.full(shape = (time, len(weights)), fill_value = meanReturns)\n",
    "    meanMatrix = meanMatrix.T\n",
    "\n",
    "    portfolio_sim = np.full(shape = (time, mc_sim), fill_value = 0)\n",
    "\n",
    "    # MC loop\n",
    "\n",
    "    # we can set a initial value of portofolio to see the absolute value\n",
    "    # initial_money = 10000\n",
    "    for m in range(mc_sim):\n",
    "        '''\n",
    "        Here we assume that daily return are distributed by a multvariate normal distribution\n",
    "        Using Cholesky Decomposition, we get L, which is lower triangle.\n",
    "        return = mean + L * Z, where Z is normal distribution (0,1)\n",
    "        '''\n",
    "        Z = np.random.normal(size = (time, len(weights)))\n",
    "        L = np.linalg.cholesky(covMatrix)\n",
    "        dailyReturns = meanMatrix + np.inner(L, Z)\n",
    "\n",
    "        portfolio_sim[:,m] = np.cumprod(np.inner(weights, dailyReturns.T) + 1) # FV = PV * (1 + r)^t\n",
    "\n",
    "    lastDay_return = portfolio_sim[-1,:]\n",
    "    _mcCVaR(lastDay_return, alpha = alpha)"
   ]
  },
  {
   "cell_type": "markdown",
   "id": "aee60b5c",
   "metadata": {},
   "source": [
    "### Normal Distribution or t-distribution"
   ]
  },
  {
   "cell_type": "code",
   "execution_count": 16,
   "id": "b4df1b3d",
   "metadata": {},
   "outputs": [],
   "source": [
    "# Calculate VaR based different distribution\n",
    "def parametricVaR (mean, std, distribution, alpha, dof):\n",
    "    if distribution == \"normal\":\n",
    "        VaR = (1-alpha/100) * std - mean #since normal distribution is symmetric, it is easy to calculate by using 1-alpha/100\n",
    "    elif distribution == \"t-distribution\":\n",
    "        VaR = np.sqrt((dof-2)/dof) * t.ppf(1-alpha/100, dof) * std - mean\n",
    "    else:\n",
    "        raise TypeError(\"Expected the distribution to be normal or t-distribution.\")\n",
    "    return VaR"
   ]
  },
  {
   "cell_type": "code",
   "execution_count": 17,
   "id": "5380d310",
   "metadata": {},
   "outputs": [],
   "source": [
    "# Calculate CVaR based different distribution\n",
    "def parametricCVaR (mean, std, distribution, alpha, dof):\n",
    "    if distribution == \"normal\":\n",
    "        CVaR = (alpha/100)**-1 * norm.pdf( norm.ppf(alpha/100) ) * std - mean\n",
    "    elif distribution == \"t-distribution\":\n",
    "        x = t.ppf(alpha/100, dof)\n",
    "        CVaR = -1/(alpha/100) * (1-dof)**-1 * (dof-2+x**2) * t.pdf(x,dof) *std - mean\n",
    "    else:\n",
    "        raise TypeError(\"Expected the distribution to be normal or t-distribution.\")\n",
    "    return CVaR"
   ]
  },
  {
   "cell_type": "markdown",
   "id": "849d2131",
   "metadata": {},
   "source": [
    "# Question 3"
   ]
  },
  {
   "cell_type": "code",
   "execution_count": 18,
   "id": "80bd4925",
   "metadata": {},
   "outputs": [],
   "source": [
    "portfolio = pd.read_csv(\"portfolio.csv\")\n",
    "prices = pd.read_csv(\"DailyPrices.csv\")\n",
    "prices = prices.drop(prices.columns[[0,1]], axis = 1)"
   ]
  },
  {
   "cell_type": "code",
   "execution_count": 19,
   "id": "2ccb129d",
   "metadata": {},
   "outputs": [],
   "source": [
    "portfolioA = portfolio.loc[portfolio['Portfolio'] == \"A\"][[\"Stock\", \"Holding\"]]\n",
    "portfolioB = portfolio.loc[portfolio['Portfolio'] == \"B\"][[\"Stock\", \"Holding\"]]\n",
    "portfolioC = portfolio.loc[portfolio['Portfolio'] == \"C\"][[\"Stock\", \"Holding\"]]\n",
    "portfolio = portfolio[[\"Stock\", \"Holding\"]]\n",
    "\n",
    "A = pd.Series(range(len(portfolioA)))\n",
    "B = pd.Series(range(len(portfolioB)))\n",
    "C = pd.Series(range(len(portfolioC)))\n",
    "portfolioA = portfolioA.set_index(A)\n",
    "portfolioB = portfolioB.set_index(B)\n",
    "portfolioC = portfolioC.set_index(C)\n",
    "\n",
    "pricesA = prices[list(portfolioA.Stock)]\n",
    "pricesB = prices[list(portfolioB.Stock)]\n",
    "pricesC = prices[list(portfolioC.Stock)]"
   ]
  },
  {
   "cell_type": "markdown",
   "id": "9a619445",
   "metadata": {},
   "source": [
    "Calculate the weights for each portfolios"
   ]
  },
  {
   "cell_type": "code",
   "execution_count": 20,
   "id": "6260d4ec",
   "metadata": {},
   "outputs": [],
   "source": [
    "# Function of calculate weight by using first day price\n",
    "def cal_weight (data_hold, data_price):\n",
    "    n = data_hold.shape[0]\n",
    "    \n",
    "    total = 0\n",
    "    val = np.zeros((n,1))\n",
    "    for i in range(n):\n",
    "        name = data_hold.Stock[i]\n",
    "        val[i] = data_price[name][0] * data_hold.Holding[i]\n",
    "        total = total + val[i]\n",
    "        \n",
    "    weight = np.zeros((n,1))\n",
    "    for j in range(n):\n",
    "        weight[j] = val[j] / total\n",
    "        \n",
    "    return weight"
   ]
  },
  {
   "cell_type": "code",
   "execution_count": 21,
   "id": "06571d29",
   "metadata": {},
   "outputs": [],
   "source": [
    "weightsA = cal_weight(portfolioA, pricesA)\n",
    "weightsB = cal_weight(portfolioB, pricesB)\n",
    "weightsC = cal_weight(portfolioC, pricesC)\n",
    "weights = cal_weight(portfolio, prices)"
   ]
  },
  {
   "cell_type": "markdown",
   "id": "50fb374d",
   "metadata": {},
   "source": [
    "Applied the weights onto portfolio price to calculate the portfolio total value for each days"
   ]
  },
  {
   "cell_type": "code",
   "execution_count": 22,
   "id": "ee0d2636",
   "metadata": {},
   "outputs": [],
   "source": [
    "portfolioValueA = (weightsA.T @ pricesA.T).T\n",
    "portfolioValueB = (weightsB.T @ pricesB.T).T\n",
    "portfolioValueC = (weightsC.T @ pricesC.T).T\n",
    "portfolioValue = (weights.T @ prices.T).T"
   ]
  },
  {
   "cell_type": "markdown",
   "id": "94eb36e1",
   "metadata": {},
   "source": [
    "Calculate the rate of returns for each portfolio"
   ]
  },
  {
   "cell_type": "code",
   "execution_count": 23,
   "id": "65c264d8",
   "metadata": {},
   "outputs": [],
   "source": [
    "returnsA = np.array(portfolioValueA.pct_change().dropna())\n",
    "returnsB = np.array(portfolioValueB.pct_change().dropna())\n",
    "returnsC = np.array(portfolioValueC.pct_change().dropna())\n",
    "returns = np.array(portfolioValue.pct_change().dropna())"
   ]
  },
  {
   "cell_type": "markdown",
   "id": "8d152845",
   "metadata": {},
   "source": [
    "In this question, we expected return on all stock is 0, thus I will remove mean for each day's portfolio returns. "
   ]
  },
  {
   "cell_type": "code",
   "execution_count": 24,
   "id": "ff088958",
   "metadata": {},
   "outputs": [],
   "source": [
    "# Function of remove mean for a vector\n",
    "def rm_mean (vector):\n",
    "    mean = vector.mean()\n",
    "    n = vector.shape[0]\n",
    "    for i in range(n):\n",
    "        vector[i] = vector[i] - mean\n",
    "        \n",
    "    return vector"
   ]
  },
  {
   "cell_type": "code",
   "execution_count": 25,
   "id": "7282f625",
   "metadata": {},
   "outputs": [],
   "source": [
    "returnsA = rm_mean(returnsA)\n",
    "returnsB = rm_mean(returnsB)\n",
    "returnsC = rm_mean(returnsC)\n",
    "returns = rm_mean(returns)"
   ]
  },
  {
   "cell_type": "markdown",
   "id": "90199f18",
   "metadata": {},
   "source": [
    "Then, calculate the VaR and CVaR for each portfolio's return"
   ]
  },
  {
   "cell_type": "code",
   "execution_count": 26,
   "id": "c4c94d71",
   "metadata": {},
   "outputs": [],
   "source": [
    "# Calculate VaR based different distribution\n",
    "def parametricVaR (mean, std, distribution, alpha, dof):\n",
    "    if distribution == \"normal\":\n",
    "        VaR = (1-alpha/100) * std - mean #since normal distribution is symmetric, it is easy to calculate by using 1-alpha/100\n",
    "    elif distribution == \"t-distribution\":\n",
    "        VaR = np.sqrt((dof-2)/dof) * t.ppf(1-alpha/100, dof) * std - mean\n",
    "    else:\n",
    "        raise TypeError(\"Expected the distribution to be normal or t-distribution.\")\n",
    "    return VaR"
   ]
  },
  {
   "cell_type": "code",
   "execution_count": 27,
   "id": "c1c43740",
   "metadata": {},
   "outputs": [],
   "source": [
    "# Calculate CVaR based different distribution\n",
    "def parametricCVaR (mean, std, distribution, alpha, dof):\n",
    "    if distribution == \"normal\":\n",
    "        CVaR = (alpha/100)**-1 * norm.pdf( norm.ppf(alpha/100) ) * std - mean\n",
    "    elif distribution == \"t-distribution\":\n",
    "        x = t.ppf(alpha/100, dof)\n",
    "        CVaR = -1/(alpha/100) * (1-dof)**-1 * (dof-2+x**2) * t.pdf(x,dof) *std - mean\n",
    "    else:\n",
    "        raise TypeError(\"Expected the distribution to be normal or t-distribution.\")\n",
    "    return CVaR"
   ]
  },
  {
   "cell_type": "code",
   "execution_count": 28,
   "id": "82c91a6a",
   "metadata": {},
   "outputs": [],
   "source": [
    "def getVaRnCVaR(returns):\n",
    "    mean = returns.mean()\n",
    "    std = returns.std()\n",
    "    distribution = \"t-distribution\"\n",
    "    alpha = 5\n",
    "    dof = len(returns) - 1\n",
    "    \n",
    "    VaR = parametricVaR (mean, std, distribution, alpha, dof)\n",
    "    CVaR = parametricCVaR (mean, std, distribution, alpha, dof)\n",
    "    \n",
    "    return VaR, CVaR"
   ]
  },
  {
   "cell_type": "code",
   "execution_count": 29,
   "id": "7e6fa0ef",
   "metadata": {},
   "outputs": [],
   "source": [
    "A_VaR, A_CVaR = getVaRnCVaR(returnsA)\n",
    "B_VaR, B_CVaR = getVaRnCVaR(returnsB)\n",
    "C_VaR, C_CVaR = getVaRnCVaR(returnsC)\n",
    "VaR, CVaR = getVaRnCVaR(returns)"
   ]
  },
  {
   "cell_type": "markdown",
   "id": "f9518a2a",
   "metadata": {},
   "source": [
    "Show the table"
   ]
  },
  {
   "cell_type": "code",
   "execution_count": 30,
   "id": "8b1c67f5",
   "metadata": {},
   "outputs": [
    {
     "data": {
      "text/html": [
       "<div>\n",
       "<style scoped>\n",
       "    .dataframe tbody tr th:only-of-type {\n",
       "        vertical-align: middle;\n",
       "    }\n",
       "\n",
       "    .dataframe tbody tr th {\n",
       "        vertical-align: top;\n",
       "    }\n",
       "\n",
       "    .dataframe thead th {\n",
       "        text-align: right;\n",
       "    }\n",
       "</style>\n",
       "<table border=\"1\" class=\"dataframe\">\n",
       "  <thead>\n",
       "    <tr style=\"text-align: right;\">\n",
       "      <th></th>\n",
       "      <th>Name</th>\n",
       "      <th>VaR</th>\n",
       "      <th>CVaR</th>\n",
       "    </tr>\n",
       "  </thead>\n",
       "  <tbody>\n",
       "    <tr>\n",
       "      <th>0</th>\n",
       "      <td>Portfolio A</td>\n",
       "      <td>0.020991</td>\n",
       "      <td>0.026141</td>\n",
       "    </tr>\n",
       "    <tr>\n",
       "      <th>1</th>\n",
       "      <td>Portfolio B</td>\n",
       "      <td>0.018944</td>\n",
       "      <td>0.023591</td>\n",
       "    </tr>\n",
       "    <tr>\n",
       "      <th>2</th>\n",
       "      <td>Portfolio C</td>\n",
       "      <td>0.016883</td>\n",
       "      <td>0.021025</td>\n",
       "    </tr>\n",
       "    <tr>\n",
       "      <th>3</th>\n",
       "      <td>Total Portfolio</td>\n",
       "      <td>0.017087</td>\n",
       "      <td>0.021279</td>\n",
       "    </tr>\n",
       "  </tbody>\n",
       "</table>\n",
       "</div>"
      ],
      "text/plain": [
       "              Name       VaR      CVaR\n",
       "0      Portfolio A  0.020991  0.026141\n",
       "1      Portfolio B  0.018944  0.023591\n",
       "2      Portfolio C  0.016883  0.021025\n",
       "3  Total Portfolio  0.017087  0.021279"
      ]
     },
     "execution_count": 30,
     "metadata": {},
     "output_type": "execute_result"
    }
   ],
   "source": [
    "port_names = [\"Portfolio A\", \"Portfolio B\", \"Portfolio C\", \"Total Portfolio\"]\n",
    "port_VaR = [A_VaR, B_VaR, C_VaR, VaR]\n",
    "port_CVaR = [A_CVaR, B_CVaR, C_CVaR, CVaR]\n",
    "ans = pd.DataFrame(list(zip(port_names, port_VaR, port_CVaR)), columns = ['Name','VaR', 'CVaR'])\n",
    "ans"
   ]
  }
 ],
 "metadata": {
  "kernelspec": {
   "display_name": "Python 3",
   "language": "python",
   "name": "python3"
  },
  "language_info": {
   "codemirror_mode": {
    "name": "ipython",
    "version": 3
   },
   "file_extension": ".py",
   "mimetype": "text/x-python",
   "name": "python",
   "nbconvert_exporter": "python",
   "pygments_lexer": "ipython3",
   "version": "3.8.8"
  }
 },
 "nbformat": 4,
 "nbformat_minor": 5
}
